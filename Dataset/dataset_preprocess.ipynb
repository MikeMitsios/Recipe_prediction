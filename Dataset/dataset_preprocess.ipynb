{
 "cells": [
  {
   "cell_type": "code",
   "execution_count": 38,
   "metadata": {},
   "outputs": [
    {
     "name": "stdout",
     "output_type": "stream",
     "text": [
      "stars\n",
      "5    13829\n",
      "0     1696\n",
      "4     1655\n",
      "3      490\n",
      "1      280\n",
      "2      232\n",
      "Name: count, dtype: int64\n"
     ]
    }
   ],
   "source": [
    "import pandas as pd\n",
    "\n",
    "df = pd.read_csv(\"./Recipe Reviews and User Feedback Dataset.csv\")\n",
    "\n",
    "df.head()\n",
    "df.shape\n",
    "print(df[\"stars\"].value_counts())"
   ]
  },
  {
   "cell_type": "code",
   "execution_count": 40,
   "metadata": {},
   "outputs": [],
   "source": [
    "df_fil = df[~df[\"text\"].isnull()]\n",
    "df_fil = df_fil[df_fil[\"stars\"]!=0]\n",
    "df_fil.shape\n",
    "df_fil.to_csv(\"./preprocessed.csv\")"
   ]
  },
  {
   "cell_type": "code",
   "execution_count": 30,
   "metadata": {},
   "outputs": [
    {
     "data": {
      "text/plain": [
       "0    False\n",
       "1    False\n",
       "2    False\n",
       "3    False\n",
       "4    False\n",
       "Name: text, dtype: bool"
      ]
     },
     "execution_count": 30,
     "metadata": {},
     "output_type": "execute_result"
    }
   ],
   "source": [
    "df.head()"
   ]
  },
  {
   "cell_type": "code",
   "execution_count": 4,
   "metadata": {},
   "outputs": [
    {
     "name": "stdout",
     "output_type": "stream",
     "text": [
      "stars\n",
      "5    13829\n",
      "0     1696\n",
      "4     1655\n",
      "3      490\n",
      "1      280\n",
      "2      232\n",
      "Name: count, dtype: int64\n"
     ]
    }
   ],
   "source": [
    "print(df[\"stars\"].value_counts())"
   ]
  },
  {
   "cell_type": "code",
   "execution_count": 49,
   "metadata": {},
   "outputs": [
    {
     "data": {
      "text/plain": [
       "(array([4.068e+03, 4.936e+03, 3.208e+03, 1.962e+03, 9.810e+02, 5.140e+02,\n",
       "        3.100e+02, 1.950e+02, 1.100e+02, 6.500e+01, 4.600e+01, 3.700e+01,\n",
       "        1.300e+01, 1.100e+01, 7.000e+00, 8.000e+00, 3.000e+00, 3.000e+00,\n",
       "        0.000e+00, 2.000e+00, 0.000e+00, 0.000e+00, 1.000e+00, 0.000e+00,\n",
       "        1.000e+00, 1.000e+00, 0.000e+00, 0.000e+00, 1.000e+00, 1.000e+00]),\n",
       " array([  0.        ,  16.63333333,  33.26666667,  49.9       ,\n",
       "         66.53333333,  83.16666667,  99.8       , 116.43333333,\n",
       "        133.06666667, 149.7       , 166.33333333, 182.96666667,\n",
       "        199.6       , 216.23333333, 232.86666667, 249.5       ,\n",
       "        266.13333333, 282.76666667, 299.4       , 316.03333333,\n",
       "        332.66666667, 349.3       , 365.93333333, 382.56666667,\n",
       "        399.2       , 415.83333333, 432.46666667, 449.1       ,\n",
       "        465.73333333, 482.36666667, 499.        ]),\n",
       " <BarContainer object of 30 artists>)"
      ]
     },
     "execution_count": 49,
     "metadata": {},
     "output_type": "execute_result"
    },
    {
     "data": {
      "image/png": "[encoded data removed]",
      "text/plain": [
       "<Figure size 640x480 with 1 Axes>"
      ]
     },
     "metadata": {},
     "output_type": "display_data"
    }
   ],
   "source": [
    "import numpy as np\n",
    "  \n",
    "import matplotlib.pyplot as plt\n",
    "\n",
    "data = pd.read_csv(\"./preprocessed_data.csv\")\n",
    "# data.head()\n",
    "a = np.array([len(i.split()) for i in data[\"text\"]])\n",
    "# np.histogram(a, bins = np.arange(0,a.max()))\n",
    "plt.hist(a, bins=30, color='skyblue', edgecolor='black')"
   ]
  }
 ],
 "metadata": {
  "kernelspec": {
   "display_name": "emotion_env",
   "language": "python",
   "name": "python3"
  },
  "language_info": {
   "codemirror_mode": {
    "name": "ipython",
    "version": 3
   },
   "file_extension": ".py",
   "mimetype": "text/x-python",
   "name": "python",
   "nbconvert_exporter": "python",
   "pygments_lexer": "ipython3",
   "version": "3.11.4"
  }
 },
 "nbformat": 4,
 "nbformat_minor": 2
}
