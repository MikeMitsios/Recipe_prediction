{
 "cells": [
  {
   "cell_type": "code",
   "execution_count": 6,
   "metadata": {},
   "outputs": [
    {
     "name": "stdout",
     "output_type": "stream",
     "text": [
      "recipe_name\n",
      "Cheeseburger Soup               725\n",
      "Creamy White Chili              654\n",
      "Best Ever Banana Bread          509\n",
      "Enchilada Casser-Ole!           421\n",
      "Basic Homemade Bread            397\n",
      "                               ... \n",
      "Peanut Butter Cup Cheesecake     96\n",
      "Blueberry French Toast           90\n",
      "Caramel Heavenlies               86\n",
      "Lime Chicken Tacos               86\n",
      "Vegetarian Linguine              31\n",
      "Name: count, Length: 100, dtype: int64\n",
      "['Creamy White Chili', 'Best Ever Banana Bread', 'Cheeseburger Soup', 'Amish Breakfast Casserole', 'Pumpkin Spice Cupcakes with Cream Cheese Frosting', 'Favorite Chicken Potpie', 'Flavorful Chicken Fajitas', 'Apple Pie', 'Enchilada Casser-Ole!', 'Zucchini Pizza Casserole', 'Traditional Lasagna', 'Cauliflower Soup', 'Basic Homemade Bread', 'Zucchini Cupcake', 'Li’l Cheddar Meat Loaves', 'Rustic Italian Tortellini Soup', 'Fluffy Key Lime Pie', 'Stuffed Pepper Soup', 'Moist Chocolate Cake', 'Mom’s Meat Loaf', 'Pineapple Orange Cake', 'Baked Spaghetti', 'Buttery Cornbread', 'Sandy’s Chocolate Cake', 'Baked Mushroom Chicken', 'Hot Milk Cake', 'Macaroni Coleslaw', 'Cheesy Ham Chowder', 'Winning Apple Crisp', 'Forgotten Jambalaya', 'Basic Banana Muffins', 'Seafood Lasagna', 'Creamy Grape Salad', 'Peanut Butter Chocolate Dessert', 'Flavorful Pot Roast', 'Pumpkin Bread', 'Taco Lasagna', 'Frosted Banana Bars', 'Shrimp Scampi', 'Rhubarb Custard Bars', 'Caramel-Pecan Cheesecake Pie', 'Garlic Beef Enchiladas', 'Chunky Apple Cake', 'Corn Pudding', 'Black Bean ‘n’ Pumpkin Chili', 'Simple Au Gratin Potatoes', 'Bruschetta Chicken', 'Best Ever Potato Soup', 'Gluten-Free Banana Bread', 'Grilled Huli Huli Chicken', 'Fluffy Pancakes', 'Asian Chicken Thighs', 'Pumpkin Bars', 'Cheeseburger Paradise Soup', 'Special Banana Nut Bread', 'Peanut Butter Cup Cheesecake', 'Favorite Dutch Apple Pie', 'Smothered Chicken Breasts', 'Lemon Blueberry Bread', 'Slow-Cooker Lasagna', 'Vegetarian Linguine', 'Pork Chops with Scalloped Potatoes', 'Chicken and Dumplings', 'Big Soft Ginger Cookies', 'Creamy Coleslaw', 'Chocolate Caramel Candy', 'Chicken Wild Rice Soup', 'Chocolate Guinness Cake', 'White Bean Chicken Chili', 'Easy Chicken Enchiladas', 'Banana Bars with Cream Cheese Frosting', 'Blueberry French Toast', 'Contest-Winning New England Clam Chowder', 'Pineapple Pudding Cake', 'Baked Tilapia', 'Chocolate-Strawberry Celebration Cake', 'Cherry Bars', 'Creamy Macaroni and Cheese', 'Chocolate Chip Oatmeal Cookies', 'Homemade Peanut Butter Cups', 'Skillet Shepherd’s Pie', 'Ravioli Lasagna', 'Comforting Chicken Noodle Soup', 'Strawberry Pretzel Salad', 'Chicken Penne Casserole', 'First-Place Coconut Macaroons', 'Twice-Baked Potato Casserole', 'Simple Taco Soup', 'Porcupine Meatballs', 'Tennessee Peach Pudding', 'Caramel Heavenlies', 'Ham and Swiss Sliders', 'Teriyaki Chicken Thighs', 'Easy Peanut Butter Fudge', 'Bacon Macaroni Salad', 'Brown Sugar Oatmeal Pancakes', 'Lime Chicken Tacos', 'Quick Cream of Mushroom Soup', 'Egg Roll Noodle Bowl', 'Mamaw Emily’s Strawberry Cake']\n",
      "Li’l Cheddar Meat Loaves\n",
      "Mom’s Meat Loaf\n",
      "Sandy’s Chocolate Cake\n",
      "Black Bean ‘n’ Pumpkin Chili\n",
      "Skillet Shepherd’s Pie\n",
      "Mamaw Emily’s Strawberry Cake\n"
     ]
    }
   ],
   "source": [
    "import pandas as pd\n",
    "\n",
    "df = pd.read_csv(\"./Recipe Reviews and User Feedback Dataset.csv\")\n",
    "\n",
    "df.head()\n",
    "df.shape\n",
    "print(df[\"recipe_name\"].value_counts())\n",
    "print(list(df[\"recipe_name\"].unique()))\n",
    "for i in df[\"recipe_name\"].unique():\n",
    "    if \"’\" in i:\n",
    "        print(i)"
   ]
  },
  {
   "cell_type": "code",
   "execution_count": 40,
   "metadata": {},
   "outputs": [],
   "source": [
    "# df_fil = df[~df[\"text\"].isnull()]\n",
    "# df_fil = df_fil[df_fil[\"stars\"]!=0]\n",
    "# df_fil.shape\n",
    "# df_fil.to_csv(\"./preprocessed.csv\")"
   ]
  },
  {
   "cell_type": "code",
   "execution_count": 30,
   "metadata": {},
   "outputs": [
    {
     "data": {
      "text/plain": [
       "0    False\n",
       "1    False\n",
       "2    False\n",
       "3    False\n",
       "4    False\n",
       "Name: text, dtype: bool"
      ]
     },
     "execution_count": 30,
     "metadata": {},
     "output_type": "execute_result"
    }
   ],
   "source": [
    "df.head()"
   ]
  },
  {
   "cell_type": "code",
   "execution_count": 4,
   "metadata": {},
   "outputs": [
    {
     "name": "stdout",
     "output_type": "stream",
     "text": [
      "stars\n",
      "5    13829\n",
      "0     1696\n",
      "4     1655\n",
      "3      490\n",
      "1      280\n",
      "2      232\n",
      "Name: count, dtype: int64\n"
     ]
    }
   ],
   "source": [
    "print(df[\"stars\"].value_counts())"
   ]
  },
  {
   "cell_type": "code",
   "execution_count": 7,
   "metadata": {},
   "outputs": [
    {
     "name": "stdout",
     "output_type": "stream",
     "text": [
      "<class 'numpy.ndarray'>\n"
     ]
    },
    {
     "data": {
      "text/plain": [
       "(array([1.170e+04, 1.324e+03, 3.610e+02, 1.530e+02, 0.000e+00, 8.600e+01,\n",
       "        5.000e+01, 2.700e+01, 3.300e+01, 0.000e+00, 1.900e+01, 2.000e+01,\n",
       "        1.000e+01, 5.000e+00, 0.000e+00, 4.000e+00, 2.000e+00, 5.000e+00,\n",
       "        2.000e+00, 0.000e+00, 2.000e+00, 2.000e+00, 1.000e+00, 0.000e+00,\n",
       "        0.000e+00, 0.000e+00, 1.000e+00, 4.000e+00, 0.000e+00, 1.000e+00]),\n",
       " array([ 1. ,  1.8,  2.6,  3.4,  4.2,  5. ,  5.8,  6.6,  7.4,  8.2,  9. ,\n",
       "         9.8, 10.6, 11.4, 12.2, 13. , 13.8, 14.6, 15.4, 16.2, 17. , 17.8,\n",
       "        18.6, 19.4, 20.2, 21. , 21.8, 22.6, 23.4, 24.2, 25. ]),\n",
       " <BarContainer object of 30 artists>)"
      ]
     },
     "execution_count": 7,
     "metadata": {},
     "output_type": "execute_result"
    },
    {
     "data": {
      "image/png": "[encoded data removed]",
      "text/plain": [
       "<Figure size 640x480 with 1 Axes>"
      ]
     },
     "metadata": {},
     "output_type": "display_data"
    }
   ],
   "source": [
    "import numpy as np\n",
    "  \n",
    "import matplotlib.pyplot as plt\n",
    "\n",
    "data = pd.read_csv(\"./preprocessed_data.csv\")\n",
    "# data.head()\n",
    "# a = np.array([len(i.split()) for i in data[\"text\"]])\n",
    "a = df[\"user_id\"].value_counts().to_numpy()\n",
    "print(type(a))\n",
    "# np.histogram(a, bins = np.arange(0,a.max()))\n",
    "plt.hist(a, bins=30, color='skyblue', edgecolor='black')"
   ]
  },
  {
   "cell_type": "code",
   "execution_count": 8,
   "metadata": {},
   "outputs": [],
   "source": [
    "recipe_names = df['recipe_name'].to_list()"
   ]
  },
  {
   "cell_type": "code",
   "execution_count": 14,
   "metadata": {},
   "outputs": [
    {
     "data": {
      "text/plain": [
       "18182"
      ]
     },
     "execution_count": 14,
     "metadata": {},
     "output_type": "execute_result"
    }
   ],
   "source": [
    "len(recipe_names)"
   ]
  },
  {
   "cell_type": "code",
   "execution_count": null,
   "metadata": {},
   "outputs": [],
   "source": []
  },
  {
   "cell_type": "markdown",
   "metadata": {},
   "source": [
    "#### losses"
   ]
  },
  {
   "cell_type": "code",
   "execution_count": 11,
   "metadata": {},
   "outputs": [],
   "source": [
    "import torch\n",
    "t3 = torch.tensor([1,1,1,1,0]).to(torch.float)\n",
    "t0 = torch.tensor([1,0,0,0,0]).to(torch.float)\n",
    "t2 = torch.tensor([1,1,1,0,0]).to(torch.float)"
   ]
  },
  {
   "cell_type": "code",
   "execution_count": 12,
   "metadata": {},
   "outputs": [
    {
     "name": "stdout",
     "output_type": "stream",
     "text": [
      "tensor(1.)\n",
      "tensor(1.7321)\n"
     ]
    }
   ],
   "source": [
    "print(torch.linalg.norm(t3-t2))\n",
    "print(torch.linalg.norm(t3-t0))"
   ]
  }
 ],
 "metadata": {
  "kernelspec": {
   "display_name": "emotion_env",
   "language": "python",
   "name": "python3"
  },
  "language_info": {
   "codemirror_mode": {
    "name": "ipython",
    "version": 3
   },
   "file_extension": ".py",
   "mimetype": "text/x-python",
   "name": "python",
   "nbconvert_exporter": "python",
   "pygments_lexer": "ipython3",
   "version": "3.11.4"
  }
 },
 "nbformat": 4,
 "nbformat_minor": 2
}
